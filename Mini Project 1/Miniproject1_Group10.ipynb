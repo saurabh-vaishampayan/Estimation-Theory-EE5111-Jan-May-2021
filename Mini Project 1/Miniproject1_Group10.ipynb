{
 "cells": [
  {
   "cell_type": "markdown",
   "metadata": {
    "id": "0NrsBOXwIAdT"
   },
   "source": [
    "<center> <h1> <b> Estimation Theory Mini project-1 </b>  </h1> </center>\n",
    "<center> <h1> <b> Group-10 </b>  </h1> </center>\n",
    "<h2> <b>Problem 1 <h2> </b>\n",
    "<h4>\n",
    "Here we are given the linear representation for an OFDM-like system  modelled with a complex gaussian noise with variance &sigma;<sup>2</sup>.\n",
    " The first task is to estimate h and find the error between the estimated and the true value of h using the Euclidean Norm.\n",
    "<p>\n",
    "<center> <b> Y = XFh + n </b> </center>\n",
    "<center> <b> h = (A<sup>H</sup>A)<sup>-1</sup>A<sup>H</sup> Y , where A = XF\n",
    "</p</h4>"
   ]
  },
  {
   "cell_type": "code",
   "execution_count": 1,
   "metadata": {
    "id": "FTzm2hWtIW6R"
   },
   "outputs": [],
   "source": [
    "import numpy as np\n",
    "import random\n",
    "\n",
    "# Parameters\n",
    "L = 32\n",
    "lam = 0.2\n",
    "n_stddev = np.sqrt(0.01)/2\n",
    "\n",
    "# Generate F Matrix\n",
    "F = np.zeros((512, L), dtype = 'complex')\n",
    "\n",
    "for i in range(F.shape[0]):\n",
    "    for j in range(F.shape[1]):\n",
    "        F[i][j] = np.round(np.exp(complex(0, 2*np.pi*(i)*(j)/512)))\n",
    "\n",
    "# Generate X Matrix\n",
    "X = np.zeros((512,512), dtype = 'complex')\n",
    "QPSK = [complex(1,1), complex(-1,1), complex(1,-1), complex(-1,-1)]\n",
    "for i in range(X.shape[0]):\n",
    "    X[i][i] = np.random.choice(QPSK, p = [0.25, 0.25, 0.25, 0.25])\n",
    "\n",
    "# Generate p and h\n",
    "p = np.zeros((L, 1))\n",
    "for k in range(p.shape[0]):\n",
    "    p[k][0] = np.exp(-lam*(k))\n",
    "p = p.astype('complex')\n",
    "    \n",
    "a = np.random.normal(loc = 0, scale = 0.5, size = (L,1))\n",
    "a = a.astype('complex')\n",
    "b = np.random.normal(loc = 0, scale = 0.5, size = (L,1))\n",
    "b = b*1j\n",
    "\n",
    "h = (1/np.linalg.norm(p))*(a+b)*p\n",
    "\n",
    "# Generating noise n\n",
    "n = np.random.normal(loc=0, scale=n_stddev, size=(512,2)).view(np.complex128)\n"
   ]
  },
  {
   "cell_type": "code",
   "execution_count": 2,
   "metadata": {
    "colab": {
     "base_uri": "https://localhost:8080/"
    },
    "id": "wEGz7cSS0dtp",
    "outputId": "c26522ed-9688-4345-b23c-0a76d3406cb7"
   },
   "outputs": [
    {
     "name": "stdout",
     "output_type": "stream",
     "text": [
      "The estimated value of h is \n",
      " \n",
      " [[ 1.21361361e-02+1.27862602e-01j]\n",
      " [-1.24360635e-02+2.77398743e-01j]\n",
      " [ 5.54520849e-03+1.74425494e-02j]\n",
      " [ 2.57197263e-01-8.35647642e-02j]\n",
      " [-2.11292240e-01+7.72235276e-02j]\n",
      " [ 2.71408528e-01-2.09241431e-01j]\n",
      " [-8.24414736e-02+2.69952315e-02j]\n",
      " [-6.32097935e-02-1.01542826e-01j]\n",
      " [-7.18531049e-02-4.26925029e-03j]\n",
      " [ 3.27880803e-02+1.54176349e-02j]\n",
      " [-4.35159342e-02-1.17855519e-02j]\n",
      " [-1.60918103e-02+4.08377080e-02j]\n",
      " [ 1.07799252e-02+1.33127874e-02j]\n",
      " [-3.97840055e-02-3.13447609e-03j]\n",
      " [ 1.88580680e-04+1.57019841e-02j]\n",
      " [-1.40759720e-02-1.57845185e-02j]\n",
      " [ 8.98431278e-03+1.30061426e-02j]\n",
      " [-1.38404894e-03-4.27337583e-03j]\n",
      " [-1.89942818e-03+2.18578544e-02j]\n",
      " [ 5.42381651e-03+1.17131008e-02j]\n",
      " [ 3.09706228e-04+1.79411272e-03j]\n",
      " [ 2.84097789e-03-3.46586886e-03j]\n",
      " [-3.65380423e-03+7.90067746e-03j]\n",
      " [ 1.31551291e-04-2.50590466e-03j]\n",
      " [ 1.91722466e-04-2.79244684e-03j]\n",
      " [-4.84388436e-04-1.86743712e-03j]\n",
      " [-5.27157902e-05-7.54791325e-04j]\n",
      " [ 5.92165272e-05+1.86825596e-04j]\n",
      " [ 1.48294840e-03+3.45824695e-04j]\n",
      " [-7.89930552e-05+3.22202375e-04j]\n",
      " [-9.06848904e-04-7.55588252e-04j]\n",
      " [ 1.20765051e-03-2.52301084e-04j]]\n",
      "\n",
      " Error without sparse h = 0.011945017265143793\n"
     ]
    }
   ],
   "source": [
    "# Generating y, y = XFh + n; y = Ah + n; where A = XF\n",
    "X = np.matrix(X)\n",
    "F = np.matrix(F)\n",
    "h = np.matrix(h)\n",
    "n = np.matrix(n)\n",
    "A = np.matmul(X,F)\n",
    "y = np.matmul(A,h) + n\n",
    "\n",
    "# Estimating h\n",
    "A = np.matrix(A)\n",
    "h_LS = np.matmul(np.matmul(np.linalg.inv(np.matmul(A.H, A)), A.H), y)\n",
    "\n",
    "print(\"The estimated value of h is \\n \\n\",h)\n",
    "print(\"\\n Error without sparse h =\", np.linalg.norm(h-h_LS))"
   ]
  },
  {
   "cell_type": "markdown",
   "metadata": {
    "id": "PP78B1ZGIa36"
   },
   "source": [
    "<h2><b> Problem-2</b></h2>\n",
    "<h4>\n",
    "Now we introduce a variation by making the h sparse with only 6 non-zero taps. Since the choice of choosing the non-zero locations is left to us, we have set the first 6 locations as non-zero and computed the required h and the error between the true and estimated value. </h4>"
   ]
  },
  {
   "cell_type": "code",
   "execution_count": 3,
   "metadata": {
    "colab": {
     "base_uri": "https://localhost:8080/"
    },
    "id": "_LxQP5nWIdPc",
    "outputId": "af968919-0966-4bab-9abc-d2dc0f8edee9"
   },
   "outputs": [
    {
     "name": "stdout",
     "output_type": "stream",
     "text": [
      "The estimated value of sparse h is \n",
      " \n",
      " [[ 0.01213614+0.1278626j ]\n",
      " [-0.01243606+0.27739874j]\n",
      " [ 0.00554521+0.01744255j]\n",
      " [ 0.25719726-0.08356476j]\n",
      " [-0.21129224+0.07722353j]\n",
      " [ 0.27140853-0.20924143j]]\n",
      "\n",
      " Error with sparse h = 0.005194392297445025\n"
     ]
    }
   ],
   "source": [
    "\n",
    "# Generating y, y = XFh + n; y = Ah + n; where A = XF\n",
    "\n",
    "X = np.matrix(X)\n",
    "F = np.matrix(F)\n",
    "h = np.matrix(h)\n",
    "n = np.matrix(n)\n",
    "F_m = F[:,:6]\n",
    "h_m = h[:6]\n",
    "A_m = np.matmul(X,F_m)\n",
    "y_m = np.matmul(A_m,h_m) + n\n",
    "\n",
    "# Estimating h\n",
    "A_m = np.matrix(A_m)\n",
    "h_LS_m = np.matmul(np.matmul(np.linalg.inv(\\\n",
    "         np.matmul(A_m.H, A_m)), A_m.H), y_m)\n",
    "\n",
    "print(\"The estimated value of sparse h is \\n \\n\",h_m)\n",
    "print(\"\\n Error with sparse h =\", np.linalg.norm(h_m-h_LS_m))"
   ]
  },
  {
   "cell_type": "markdown",
   "metadata": {
    "id": "dRGpgqo-IeFz"
   },
   "source": [
    "<h2> <b> Problem-3 Part a </b> </h2>\n",
    "<h4>\n",
    "Here the problem is divided into 2 parts. First we introduce the concept of guard bands. As per the problem statement, we supress the first and last 180 symbols in X to 0 and compute the same results as in Problems 1 and 2. </h4>"
   ]
  },
  {
   "cell_type": "code",
   "execution_count": 4,
   "metadata": {
    "colab": {
     "base_uri": "https://localhost:8080/"
    },
    "id": "Hw0UTuc3Ighx",
    "outputId": "4f20f2b4-d001-4549-b600-738535b215e0"
   },
   "outputs": [
    {
     "name": "stdout",
     "output_type": "stream",
     "text": [
      "The estimated value of h with guard bands is \n",
      " \n",
      " [[ 1.56850479e-02+0.13395078j]\n",
      " [-5.32580412e-03+0.29402788j]\n",
      " [ 9.36524318e-03+0.02152954j]\n",
      " [ 2.58316139e-01-0.09571652j]\n",
      " [-2.05114876e-01+0.08708976j]\n",
      " [ 2.73723350e-01-0.18540757j]\n",
      " [-9.52564799e-02+0.02799101j]\n",
      " [-8.19367355e-02-0.10783857j]\n",
      " [-7.71146584e-02+0.00070274j]\n",
      " [ 2.53982542e-02+0.02035233j]\n",
      " [-4.92512415e-02-0.01029068j]\n",
      " [-5.90946050e-03+0.03710814j]\n",
      " [ 2.77494809e-02+0.00733857j]\n",
      " [-3.76330257e-02+0.00403321j]\n",
      " [ 2.83477631e-03+0.01985921j]\n",
      " [-1.02973532e-02-0.02808506j]\n",
      " [ 9.30728182e-03+0.02225401j]\n",
      " [ 1.99100246e-03+0.01020008j]\n",
      " [ 8.44317777e-03+0.01471985j]\n",
      " [-4.57116177e-05+0.01430454j]\n",
      " [-8.40727801e-03+0.02413727j]\n",
      " [ 9.38289052e-03-0.00289427j]\n",
      " [ 1.50402729e-03-0.00042397j]\n",
      " [-1.66712128e-03-0.00139727j]\n",
      " [ 4.55681640e-03-0.00219745j]\n",
      " [ 8.32266919e-03+0.008889j  ]\n",
      " [-4.48299084e-04+0.00938525j]\n",
      " [ 7.63231384e-03-0.00497606j]\n",
      " [ 9.29626825e-03-0.0104877j ]\n",
      " [ 2.95799237e-03+0.00503377j]\n",
      " [ 7.27379942e-05+0.0054645j ]\n",
      " [ 9.80258385e-03-0.00086327j]]\n",
      "\n",
      " The estimated value of sparse h with guard bands is \n",
      " \n",
      " [[ 0.01094682+0.12838706j]\n",
      " [-0.01293351+0.2839221j ]\n",
      " [ 0.00978909+0.02574735j]\n",
      " [ 0.26524484-0.08387473j]\n",
      " [-0.20767593+0.07406694j]\n",
      " [ 0.2675932 -0.20973773j]]\n",
      "\n",
      " Error with guard bands = 0.06795707156592076\n",
      "\n",
      " Error with guard bands, sparse h = 0.015302795728593655\n"
     ]
    }
   ],
   "source": [
    "#Generate X matrix with guard bands\n",
    "Xg = np.zeros((512,512), dtype = 'complex')\n",
    "for i in range(180,X.shape[0]-178):\n",
    "    Xg[i][i] = np.random.choice(QPSK, p = [0.25, 0.25, 0.25, 0.25])\n",
    "Xg = np.matrix(Xg)\n",
    "\n",
    "# Generating y, y = XFh + n; y = Ah + n; where A = XF\n",
    "Ag = np.matmul(Xg,F)\n",
    "Ag_m = np.matmul(Xg,F_m)\n",
    "yg = np.matmul(Ag,h) + n\n",
    "yg_m = np.matmul(Ag_m,h_m) + n\n",
    "\n",
    "# Estimating h\n",
    "Ag = np.matrix(Ag)\n",
    "Ag_m = np.matrix(Ag_m)\n",
    "hg_LS = np.matmul(np.matmul(np.linalg.inv(np.matmul(Ag.H, Ag)), Ag.H), yg)\n",
    "hg_LS_m = np.matmul(np.matmul(np.linalg.inv(np.matmul\\\n",
    "                (Ag_m.H, Ag_m)), Ag_m.H), yg_m)\n",
    "\n",
    "print(\"The estimated value of h with guard bands is \\n \\n\",hg_LS)\n",
    "print(\"\\n The estimated value of sparse h with guard bands is \\n \\n\",hg_LS_m)\n",
    "print(\"\\n Error with guard bands =\", np.linalg.norm(h-hg_LS))\n",
    "print(\"\\n Error with guard bands, sparse h =\",np.linalg.norm(h_m-hg_LS_m))"
   ]
  },
  {
   "cell_type": "markdown",
   "metadata": {
    "id": "Gf8hYdoVIH_8"
   },
   "source": [
    "<h2><b> Problem 3 Part b</h2></b>\n",
    "<h4>\n",
    "Now, we introduce the concept of regularization to control the influence of noise on the estimated value of h. The regularization hyperparameter is &alpha;. As a result of this, the estimated h value now becomes\n",
    "\n",
    "<center> <b> h = (X<sup>H</sup> X + &alpha;.I<sub><i>nxn</i></sub>)<sup>-1</sup> X <sup>H</sup> Y</center></b>\n",
    "</p</h4>\n",
    "\n",
    "We then compute this value for varying values of alpha and locate the minimum point with the least error."
   ]
  },
  {
   "cell_type": "code",
   "execution_count": 5,
   "metadata": {
    "colab": {
     "base_uri": "https://localhost:8080/",
     "height": 623
    },
    "id": "DydDaNQn2Tfa",
    "outputId": "30ab1fab-9b91-46c9-8314-e0fc78e7cc18"
   },
   "outputs": [
    {
     "name": "stdout",
     "output_type": "stream",
     "text": [
      "\u001b[1m  PLOTS FOR REGULARIZATION WITHOUT GUARD BANDS \n",
      " \n",
      "\n"
     ]
    },
    {
     "data": {
      "image/png": "[encoded data removed]",
      "text/plain": [
       "<Figure size 432x288 with 1 Axes>"
      ]
     },
     "metadata": {
      "needs_background": "light"
     },
     "output_type": "display_data"
    },
    {
     "data": {
      "image/png": "[encoded data removed]",
      "text/plain": [
       "<Figure size 432x288 with 1 Axes>"
      ]
     },
     "metadata": {
      "needs_background": "light"
     },
     "output_type": "display_data"
    }
   ],
   "source": [
    "#Q3 PART - 2\n",
    "alpha = 0\n",
    "I = np.identity(32,dtype=complex)\n",
    "I1 = np.identity(6,dtype=complex)\n",
    "\n",
    "errors = []\n",
    "errorsg = []\n",
    "errors_m = []\n",
    "errorsg_m = []\n",
    "alphas = []\n",
    "\n",
    "for i in range(0,4000,5):\n",
    "    alpha = i/1000\n",
    "    alphas.append(alpha)\n",
    "    reg_term = alpha*I\n",
    "    reg_term_m = alpha*I1\n",
    "    h_LS = np.matmul((np.matmul((np.linalg.inv\\\n",
    "         (np.matmul(A.H,A)+reg_term)),A.H)),y)\n",
    "    hg_LS = np.matmul((np.matmul((np.linalg.inv\\\n",
    "         (np.matmul(Ag.H,Ag)+reg_term)),Ag.H)),yg)\n",
    "    h_LS_m = np.matmul((np.matmul((np.linalg.inv\\\n",
    "         (np.matmul(A_m.H,A_m)+reg_term_m)),A_m.H)),y_m)\n",
    "    hg_LS_m = np.matmul((np.matmul((np.linalg.inv\\\n",
    "         (np.matmul(Ag_m.H,Ag_m)+reg_term_m)),Ag_m.H)),yg_m)\n",
    "    errors_m.append(np.linalg.norm(h_m-h_LS_m))\n",
    "    errorsg_m.append(np.linalg.norm(h_m-hg_LS_m))\n",
    "    errors.append(np.linalg.norm(h-h_LS))\n",
    "    errorsg.append(np.linalg.norm(h-hg_LS))\n",
    "\n",
    "\n",
    "import matplotlib.pyplot as plt\n",
    "arg_min = np.argmin(errors)\n",
    "arg_min1 = np.argmin(errorsg)\n",
    "arg_min2 = np.argmin(errors_m)\n",
    "arg_min3 = np.argmin(errorsg_m)\n",
    "\n",
    "min_error = errors[arg_min]\n",
    "min_alpha = alphas[arg_min]\n",
    "min_error_m = errors_m[arg_min2]\n",
    "min_alpha_m = alphas[arg_min2]\n",
    "\n",
    "min_errorg = errorsg[arg_min1]\n",
    "min_alphag= alphas[arg_min1]\n",
    "min_errorg_m = errorsg_m[arg_min3]\n",
    "min_alphag_m = alphas[arg_min3]\n",
    "\n",
    "print('\\033[1m  PLOTS FOR REGULARIZATION WITHOUT GUARD BANDS \\n \\n')\n",
    "plt.plot(alphas,errors)\n",
    "plt.plot(min_alpha,min_error,marker='o',label='minimum error point')\n",
    "plt.title('Error for varying Alpha without guard band and without sparse h')\n",
    "plt.xlabel('Alpha in regularization')\n",
    "plt.ylabel('Error in estimation')\n",
    "plt.legend()\n",
    "plt.show()\n",
    "\n",
    "\n",
    "plt.plot(alphas,errors_m)\n",
    "plt.plot(min_alpha_m,min_error_m,marker='o',label='minimum error point')\n",
    "plt.title('Error for varying Alpha with sparse h and without guard band')\n",
    "plt.xlabel('Alpha in regularization')\n",
    "plt.ylabel('Error in estimation')\n",
    "plt.legend()\n",
    "plt.show()\n",
    "\n"
   ]
  },
  {
   "cell_type": "code",
   "execution_count": 6,
   "metadata": {
    "colab": {
     "base_uri": "https://localhost:8080/",
     "height": 623
    },
    "id": "iWmHhh9iCI2L",
    "outputId": "e6f8ea18-4760-48eb-c7ff-b175d056ba34"
   },
   "outputs": [
    {
     "name": "stdout",
     "output_type": "stream",
     "text": [
      "\u001b[1m  PLOTS FOR REGULARIZATION WITH GUARD BANDS \n",
      " \n",
      "\n"
     ]
    },
    {
     "data": {
      "image/png": "[encoded data removed]",
      "text/plain": [
       "<Figure size 432x288 with 1 Axes>"
      ]
     },
     "metadata": {
      "needs_background": "light"
     },
     "output_type": "display_data"
    },
    {
     "data": {
      "image/png": "[encoded data removed]",
      "text/plain": [
       "<Figure size 432x288 with 1 Axes>"
      ]
     },
     "metadata": {
      "needs_background": "light"
     },
     "output_type": "display_data"
    }
   ],
   "source": [
    "\n",
    "print('\\033[1m  PLOTS FOR REGULARIZATION WITH GUARD BANDS \\n \\n')\n",
    "\n",
    "plt.plot(alphas,errorsg)\n",
    "plt.plot(min_alphag,min_errorg,marker='o',label='minimum error point')\n",
    "plt.title('Error for varying Alpha with guard band and without sparse h')\n",
    "plt.xlabel('Alpha in regularization')\n",
    "plt.ylabel('Error in estimation')\n",
    "plt.legend()\n",
    "plt.show()\n",
    "\n",
    "\n",
    "plt.plot(alphas,errorsg_m)\n",
    "plt.plot(min_alphag_m,min_errorg_m,marker='o',label='minimum error point')\n",
    "plt.title('Error for varying Alpha with sparse h and guard bands')\n",
    "plt.xlabel('Alpha in regularization')\n",
    "plt.ylabel('Error in estimation')\n",
    "plt.legend()\n",
    "plt.show()\n"
   ]
  },
  {
   "cell_type": "markdown",
   "metadata": {
    "id": "s57ODSNQLSqP"
   },
   "source": [
    "<h3> <b>Summary of observations and conclusions for Questions 1,2 and 3 </b></h3>\n",
    "<h4>\n",
    "1. The error between the true and the estimated value of h changes as we introduce the guard bands in X. This is because the guard band which is originally used to supress the frequencies outside a particular band, can be thought of as reducing information in the context of this problem.\n",
    "<h4>\n",
    "2. On introducing a sparse h, we can see that estimated value is closer to the true value for both with and without guard bands. \n",
    "<h4>\n",
    "3. When we introduce regularization, we can see that the error value decreases for almost all cases of estimation. It appears to have a minima and then increases upon further increase in the hyperparameter. This is because, initially when we increase the hyperparameter, the influence of the noise on the estimated h reduces. But once we cross the minima, we also start supressing the information present in A and hence error increases.\n",
    "<h4>\n",
    "4. When the model is run for different values of X and noise, we see that the minimum error point also changes. In some cases, it is also possible that there exists no valur of &alpha; for which error is minimized."
   ]
  },
  {
   "cell_type": "markdown",
   "metadata": {
    "id": "hz_ZLpFQIMJ4"
   },
   "source": [
    "<h2><b> Question 4: Least squares with constraints </h2></b>"
   ]
  },
  {
   "cell_type": "markdown",
   "metadata": {
    "id": "ckeO2wRxIAdU"
   },
   "source": [
    "## Code:"
   ]
  },
  {
   "cell_type": "code",
   "execution_count": 7,
   "metadata": {
    "id": "_0uBc92kIAdV"
   },
   "outputs": [],
   "source": [
    "%reset -f"
   ]
  },
  {
   "cell_type": "code",
   "execution_count": 8,
   "metadata": {
    "id": "YQcjEaxuIAdV"
   },
   "outputs": [],
   "source": [
    "import numpy as np\n",
    "import matplotlib.pyplot as plt"
   ]
  },
  {
   "cell_type": "markdown",
   "metadata": {
    "id": "eSIDOd9xIAdW"
   },
   "source": [
    "### Generate h\n",
    "\n",
    "$h[k] = (a[k]+ib[k])\\frac{p[k]}{||p||}, p[k] = e^{-\\lambda (k-1)}, a[k], b[k] \\sim N(0,0.5)$\n",
    "\n",
    "But given constraints:\n",
    "\n",
    "$h[1] = h[2]$\n",
    "\n",
    "$h[3] = h[4]$\n",
    "\n",
    "$h[5] = h[6]$"
   ]
  },
  {
   "cell_type": "code",
   "execution_count": 9,
   "metadata": {
    "id": "K_oC8SSXIAdW"
   },
   "outputs": [],
   "source": [
    "#Generate h without constraints\n",
    "L = 32\n",
    "lambda_p = 0.2\n",
    "\n",
    "a = np.sqrt(0.5)*np.random.randn(L)\n",
    "b = np.sqrt(0.5)*np.random.randn(L)\n",
    "p = np.exp(-lambda_p*np.arange(0,L,1))\n",
    "p = p/np.linalg.norm(p)\n",
    "\n",
    "h = p*(a+1.j*b)\n",
    "\n",
    "del a,b,p\n",
    "\n",
    "#Add constraints to h\n",
    "h[1] = h[0].copy()\n",
    "h[3] = h[2].copy()\n",
    "h[5] = h[4].copy()"
   ]
  },
  {
   "cell_type": "markdown",
   "metadata": {
    "id": "cI_v9IKMIAdW"
   },
   "source": [
    "### Generate F"
   ]
  },
  {
   "cell_type": "code",
   "execution_count": 10,
   "metadata": {
    "id": "iXmCV6cUIAdW"
   },
   "outputs": [],
   "source": [
    "N = 512\n",
    "I, J = np.meshgrid(np.arange(L),np.arange(N))\n",
    "F = np.exp(1.j*2*np.pi*I*J/512)\n",
    "del I,J"
   ]
  },
  {
   "cell_type": "markdown",
   "metadata": {
    "id": "TKNYsN6gIAdX"
   },
   "source": [
    "### Generate X\n",
    "\n",
    "X is QPSK, with each symbol being equiprobable.\n",
    "\n",
    "Since we have vectorised our code to run for all ensembles in parallel, X is generated accordingly(all at once as a 2d numpy array)"
   ]
  },
  {
   "cell_type": "code",
   "execution_count": 11,
   "metadata": {
    "id": "saia2FkCIAdX"
   },
   "outputs": [],
   "source": [
    "N_iter = 10000\n",
    "\n",
    "rand_array = np.random.rand(N_iter,N)\n",
    "ones_array = np.ones((N_iter,N))\n",
    "\n",
    "X = (-1-1.j)*(np.less(rand_array,0.25*ones_array))+\\\n",
    "(-1+1.j)*(np.less(rand_array,0.5*ones_array)&np.greater(rand_array,0.25*ones_array))+\\\n",
    "(1-1.j)*(np.less(rand_array,0.75*ones_array)&np.greater(rand_array,0.5*ones_array))+\\\n",
    "(1+1.j)*(np.greater(rand_array,0.75*ones_array))\n",
    "\n",
    "del rand_array, ones_array"
   ]
  },
  {
   "cell_type": "markdown",
   "metadata": {
    "id": "VGTkdbBEIAdX"
   },
   "source": [
    "### Add noise\n",
    "\n",
    "Since the noise is complex, its PSD is divided equally into 2 quadratures. Also, we are asked to do it for two distinct variances"
   ]
  },
  {
   "cell_type": "code",
   "execution_count": 12,
   "metadata": {
    "id": "UC2ncfuwIAdY"
   },
   "outputs": [],
   "source": [
    "sigma1 = np.sqrt(0.1)\n",
    "sigma2 = np.sqrt(0.01)\n",
    "\n",
    "n1 = np.sqrt(0.5)*(sigma1*np.random.randn(N_iter,N)+1.j*sigma1*np.random.randn(N_iter,N))\n",
    "n2 = np.sqrt(0.5)*(sigma2*np.random.randn(N_iter,N)+1.j*sigma2*np.random.randn(N_iter,N))"
   ]
  },
  {
   "cell_type": "code",
   "execution_count": 13,
   "metadata": {
    "id": "gq9uq36jIAdY"
   },
   "outputs": [],
   "source": [
    "F_mult_h = F@h\n",
    "\n",
    "y1 = X*F_mult_h+n1\n",
    "y2 = X*F_mult_h+n2"
   ]
  },
  {
   "cell_type": "markdown",
   "metadata": {
    "id": "-i40E_H4IAdY"
   },
   "source": [
    "### Unconstrained estimate\n",
    "\n",
    "For the constrained estimate we first need the estimate without any constraints.\n",
    "\n",
    "$\\hat{\\theta} = (H^H H)^{-1} H^H y$\n",
    "\n",
    "Here $H = XF$\n",
    "\n",
    "One analytical observation we have used is that since $X$ is QPSK, $X^H X = 2I$, regardless of which symbol is transmitted. This simplifies things computationally since we no longer need to calculate $H^H H$ for the 10000 ensembles. Matrix inversion is memory intensive as well as time taking. This memory saving was used in vectorising the code to enable parallel processing of the 10000 ensembles on ordinary computer."
   ]
  },
  {
   "cell_type": "code",
   "execution_count": 14,
   "metadata": {
    "id": "g3oJIH5_IAdY"
   },
   "outputs": [],
   "source": [
    "H_h_H = 2*(np.conj(F.T)@F)\n",
    "H_h_H_inv = np.linalg.inv(H_h_H)\n",
    "\n",
    "theta_hat_1 = ((H_h_H_inv@np.conj(F.T))@(np.conj(X)*y1).T).T\n",
    "theta_hat_2 = ((H_h_H_inv@np.conj(F.T))@(np.conj(X)*y2).T).T"
   ]
  },
  {
   "cell_type": "markdown",
   "metadata": {
    "id": "e08UDChIIAdZ"
   },
   "source": [
    "### Constraint matrices\n",
    "\n",
    "The constrainied solution $\\hat{\\theta_c}$ satisfies:\n",
    "\n",
    "$A \\hat{\\theta_c} = b$.\n",
    "\n",
    "We define A and b matrices for the contraints mentioned above"
   ]
  },
  {
   "cell_type": "code",
   "execution_count": 15,
   "metadata": {
    "id": "Mf-SY-b9IAdZ"
   },
   "outputs": [],
   "source": [
    "n_constraints = 3\n",
    "A = np.zeros((n_constraints,L))\n",
    "b = np.zeros(n_constraints)\n",
    "A[0,0] = 1\n",
    "A[0,1] = -1\n",
    "A[1,2] = 1\n",
    "A[1,3] = -1\n",
    "A[2,4] = 1\n",
    "A[2,5] = -1"
   ]
  },
  {
   "cell_type": "markdown",
   "metadata": {
    "id": "mTYh1ufDIAdZ"
   },
   "source": [
    "### Finding Lagrange Multipliers\n",
    "\n",
    "Now we proceed to use the formulae for Lagrange multipliers for optimal solution.\n",
    "\n",
    "$\\frac{\\lambda}{2} = (A(H^H H)^{-1}A^T)^{-1}(A\\hat{\\theta}-b) $"
   ]
  },
  {
   "cell_type": "code",
   "execution_count": 16,
   "metadata": {
    "id": "h8aVBfYPIAdZ",
    "scrolled": true
   },
   "outputs": [],
   "source": [
    "#Note: The extra tranposes are for shape broadcasting according to convention used in this code.\n",
    "lambda_1 = (2*(np.linalg.inv(A@H_h_H_inv@(A.T))@((A@theta_hat_1.T).T-b).T)).T\n",
    "lambda_2 = (2*(np.linalg.inv(A@H_h_H_inv@(A.T))@((A@theta_hat_2.T).T-b).T)).T"
   ]
  },
  {
   "cell_type": "markdown",
   "metadata": {
    "id": "3C1HijRDIAdZ"
   },
   "source": [
    "### Substituting to find optimal solution under constraints\n",
    "\n",
    "$\\hat{\\theta_c} = \\hat{\\theta}-(H^H H)^{-1}A^T \\frac{\\lambda}{2}$"
   ]
  },
  {
   "cell_type": "code",
   "execution_count": 17,
   "metadata": {
    "id": "6_2hN3eUIAda"
   },
   "outputs": [],
   "source": [
    "theta_c_1 = theta_hat_1-((H_h_H_inv)@A.T@(0.5*lambda_1.T)).T\n",
    "theta_c_2 = theta_hat_2-((H_h_H_inv)@A.T@(0.5*lambda_2.T)).T"
   ]
  },
  {
   "cell_type": "markdown",
   "metadata": {
    "id": "zuKMzZYYIAda"
   },
   "source": [
    "### Comparing true parameter and mean of estimated parameter\n",
    "\n",
    "We take mean of estimated parameter over 10000 ensembles for the two noise variances and compare with the true parameter. We plot as well as print each of the above. "
   ]
  },
  {
   "cell_type": "code",
   "execution_count": 18,
   "metadata": {
    "colab": {
     "base_uri": "https://localhost:8080/",
     "height": 2078
    },
    "id": "5-tkiy-KIAda",
    "outputId": "b8748e5d-0c8e-4bea-f793-9823206e728a"
   },
   "outputs": [
    {
     "name": "stdout",
     "output_type": "stream",
     "text": [
      "=====================\n",
      "True h\n",
      "[ 8.64821807e-02-3.71287139e-01j  8.64821807e-02-3.71287139e-01j\n",
      "  1.19560461e-01+1.24399968e-02j  1.19560461e-01+1.24399968e-02j\n",
      "  4.34664693e-01-1.59314158e-01j  4.34664693e-01-1.59314158e-01j\n",
      "  1.37115721e-01-2.58174658e-02j  4.93728650e-02-7.56329519e-02j\n",
      "  1.09146581e-02+5.60244772e-03j  6.53220765e-02-2.41635728e-03j\n",
      " -3.96937253e-03+7.33233391e-02j  6.92976300e-02+3.28452777e-02j\n",
      " -5.13140834e-02+2.48075948e-03j  4.25318384e-02+2.63669663e-02j\n",
      " -1.78298312e-02+7.73125313e-04j -2.06202360e-02-5.10213448e-02j\n",
      "  3.27350420e-03-2.02815986e-03j  3.29289265e-02-5.38999778e-03j\n",
      " -1.14884536e-03-8.12164032e-03j -8.46135182e-03-1.03640547e-02j\n",
      " -4.22007124e-03+2.12453681e-02j -7.14498820e-03-6.69430247e-04j\n",
      " -4.94803025e-03-1.94836109e-03j  1.96297720e-03+1.17960402e-03j\n",
      " -1.44705181e-03-4.62249089e-03j -3.84256599e-03+1.75667200e-03j\n",
      "  2.92771859e-03-2.01335564e-03j  5.50804207e-04+1.46709361e-04j\n",
      " -1.07576596e-03+4.01490832e-04j  4.70280168e-04-7.51518254e-04j\n",
      " -9.54611063e-05+3.73869262e-04j  8.20872281e-04+1.35083310e-03j]\n",
      "\n",
      "\n",
      "Estimated h under variance = 0.1\n",
      "[ 8.65142471e-02-3.71248645e-01j  8.65142471e-02-3.71248645e-01j\n",
      "  1.19640008e-01+1.24164919e-02j  1.19640008e-01+1.24164919e-02j\n",
      "  4.34626035e-01-1.59331690e-01j  4.34626035e-01-1.59331690e-01j\n",
      "  1.37138797e-01-2.57785698e-02j  4.91849670e-02-7.57075515e-02j\n",
      "  1.07998537e-02+5.48659309e-03j  6.54262543e-02-2.46991880e-03j\n",
      " -3.89285348e-03+7.34177765e-02j  6.92466783e-02+3.27880383e-02j\n",
      " -5.13132495e-02+2.32882879e-03j  4.24338737e-02+2.64081860e-02j\n",
      " -1.79880759e-02+9.18807765e-04j -2.06522271e-02-5.11028168e-02j\n",
      "  3.19623717e-03-1.98448944e-03j  3.28188479e-02-5.33212386e-03j\n",
      " -1.15680641e-03-8.10085552e-03j -8.44534418e-03-1.04493021e-02j\n",
      " -4.28210998e-03+2.13079580e-02j -7.02872618e-03-6.59101701e-04j\n",
      " -4.90878066e-03-2.03571987e-03j  1.92940062e-03+1.20515402e-03j\n",
      " -1.43988895e-03-4.61130026e-03j -3.78129084e-03+1.62509751e-03j\n",
      "  3.00310444e-03-2.00539399e-03j  4.28504199e-04+1.01628981e-04j\n",
      " -1.16663509e-03+4.37627771e-04j  4.93235749e-04-8.47749799e-04j\n",
      " -2.19897947e-04+4.87693247e-04j  8.78600329e-04+1.31188592e-03j]\n",
      "\n",
      "\n",
      "\n",
      "\n",
      "=====================\n",
      "True h\n",
      "[ 8.64821807e-02-3.71287139e-01j  8.64821807e-02-3.71287139e-01j\n",
      "  1.19560461e-01+1.24399968e-02j  1.19560461e-01+1.24399968e-02j\n",
      "  4.34664693e-01-1.59314158e-01j  4.34664693e-01-1.59314158e-01j\n",
      "  1.37115721e-01-2.58174658e-02j  4.93728650e-02-7.56329519e-02j\n",
      "  1.09146581e-02+5.60244772e-03j  6.53220765e-02-2.41635728e-03j\n",
      " -3.96937253e-03+7.33233391e-02j  6.92976300e-02+3.28452777e-02j\n",
      " -5.13140834e-02+2.48075948e-03j  4.25318384e-02+2.63669663e-02j\n",
      " -1.78298312e-02+7.73125313e-04j -2.06202360e-02-5.10213448e-02j\n",
      "  3.27350420e-03-2.02815986e-03j  3.29289265e-02-5.38999778e-03j\n",
      " -1.14884536e-03-8.12164032e-03j -8.46135182e-03-1.03640547e-02j\n",
      " -4.22007124e-03+2.12453681e-02j -7.14498820e-03-6.69430247e-04j\n",
      " -4.94803025e-03-1.94836109e-03j  1.96297720e-03+1.17960402e-03j\n",
      " -1.44705181e-03-4.62249089e-03j -3.84256599e-03+1.75667200e-03j\n",
      "  2.92771859e-03-2.01335564e-03j  5.50804207e-04+1.46709361e-04j\n",
      " -1.07576596e-03+4.01490832e-04j  4.70280168e-04-7.51518254e-04j\n",
      " -9.54611063e-05+3.73869262e-04j  8.20872281e-04+1.35083310e-03j]\n",
      "\n",
      "\n",
      "Estimated h under variance = 0.01\n",
      "[ 8.64873450e-02-3.71279481e-01j  8.64873450e-02-3.71279481e-01j\n",
      "  1.19558039e-01+1.24293474e-02j  1.19558039e-01+1.24293474e-02j\n",
      "  4.34665279e-01-1.59308851e-01j  4.34665279e-01-1.59308851e-01j\n",
      "  1.37109860e-01-2.58594979e-02j  4.94142140e-02-7.56396427e-02j\n",
      "  1.09068937e-02+5.62527145e-03j  6.53399772e-02-2.42824427e-03j\n",
      " -3.92546936e-03+7.33369442e-02j  6.93182466e-02+3.28201142e-02j\n",
      " -5.13184137e-02+2.50551751e-03j  4.25336164e-02+2.63589692e-02j\n",
      " -1.78136465e-02+7.91455055e-04j -2.06385723e-02-5.09902080e-02j\n",
      "  3.26960760e-03-2.04207438e-03j  3.28926050e-02-5.37275107e-03j\n",
      " -1.15835422e-03-8.15035048e-03j -8.46484225e-03-1.04007730e-02j\n",
      " -4.20864436e-03+2.12455739e-02j -7.15911411e-03-6.20327675e-04j\n",
      " -4.92131701e-03-1.93333446e-03j  1.96261074e-03+1.20918252e-03j\n",
      " -1.47274775e-03-4.60961176e-03j -3.83701278e-03+1.75662608e-03j\n",
      "  2.92803434e-03-2.02170786e-03j  5.92058205e-04+1.75400213e-04j\n",
      " -1.06184078e-03+4.21299825e-04j  5.02442534e-04-7.61027869e-04j\n",
      " -1.51928964e-04+4.01413895e-04j  8.02552502e-04+1.35765460e-03j]\n",
      "\n",
      "\n",
      "\n",
      "\n",
      "Fractional error in h for variance = 0.1\n",
      "0.001160513926417407\n",
      "\n",
      "\n",
      "Fractional error in h for variance = 0.01\n",
      "0.00031083849141441965\n"
     ]
    },
    {
     "data": {
      "image/png": "[encoded data removed]",
      "text/plain": [
       "<Figure size 432x288 with 2 Axes>"
      ]
     },
     "metadata": {
      "needs_background": "light"
     },
     "output_type": "display_data"
    },
    {
     "data": {
      "image/png": "[encoded data removed]",
      "text/plain": [
       "<Figure size 432x288 with 2 Axes>"
      ]
     },
     "metadata": {
      "needs_background": "light"
     },
     "output_type": "display_data"
    }
   ],
   "source": [
    "mean_theta_c_1 = np.mean(theta_c_1,axis=0)\n",
    "mean_theta_c_2 = np.mean(theta_c_2,axis=0)\n",
    "\n",
    "print('=====================')\n",
    "print('True h')\n",
    "print(h)\n",
    "print('\\n')\n",
    "print('Estimated h under variance = 0.1')\n",
    "print(mean_theta_c_1)\n",
    "print('\\n')\n",
    "print('\\n')\n",
    "\n",
    "print('=====================')\n",
    "print('True h')\n",
    "print(h)\n",
    "print('\\n')\n",
    "print('Estimated h under variance = 0.01')\n",
    "print(mean_theta_c_2)\n",
    "print('\\n')\n",
    "print('\\n')\n",
    "\n",
    "print('Fractional error in h for variance = 0.1')\n",
    "print(np.sum(np.abs(h-mean_theta_c_1))/np.sum(np.abs(h)))\n",
    "print('\\n')\n",
    "print('Fractional error in h for variance = 0.01')\n",
    "print(np.sum(np.abs(h-mean_theta_c_2))/np.sum(np.abs(h)))\n",
    "\n",
    "#Plots\n",
    "fig, ax = plt.subplots(1,2)\n",
    "ax[0].plot(np.real(h),label='Real part of h')\n",
    "ax[0].plot(np.real(mean_theta_c_1),label='Real part of E['+r'$\\hat{h}$'+']')\n",
    "ax[0].set_xlabel('n')\n",
    "ax[0].set_ylabel('h[n]')\n",
    "ax[0].legend()\n",
    "ax[0].set_title('Real part')\n",
    "\n",
    "ax[1].plot(np.imag(h),label='Imaginary part of h')\n",
    "ax[1].plot(np.imag(mean_theta_c_1),label='Imaginary part of E['+r'$\\hat{h}$'+']')\n",
    "ax[1].set_xlabel('n')\n",
    "ax[1].set_ylabel('h[n]')\n",
    "ax[1].legend()\n",
    "ax[1].set_title('Imaginary part')\n",
    "plt.suptitle('Noise variance = 0.1')\n",
    "plt.show()\n",
    "\n",
    "fig, ax = plt.subplots(1,2)\n",
    "ax[0].plot(np.real(h),label='Real part of h')\n",
    "ax[0].plot(np.real(mean_theta_c_2),label='Real part of E['+r'$\\hat{h}$'+']')\n",
    "ax[0].set_xlabel('n')\n",
    "ax[0].set_ylabel('h[n]')\n",
    "ax[0].legend()\n",
    "ax[0].set_title('Real part')\n",
    "\n",
    "ax[1].plot(np.imag(h),label='Imaginary part of h')\n",
    "ax[1].plot(np.imag(mean_theta_c_2),label='Imaginary part of E['+r'$\\hat{h}$'+']')\n",
    "ax[1].set_xlabel('n')\n",
    "ax[1].set_ylabel('h[n]')\n",
    "ax[1].legend()\n",
    "ax[1].set_title('Imaginary part')\n",
    "plt.suptitle('Noise variance = 0.01')\n",
    "plt.show()"
   ]
  },
  {
   "cell_type": "markdown",
   "metadata": {
    "id": "QM_ZO2zjIAdb"
   },
   "source": [
    "### Theoretical and simulated MSE\n",
    "\n",
    "Theoretical MSE for constrained solution is given by\n",
    "\n",
    "$J_c = E[||y-H\\hat{\\theta_c}||^2]$\n",
    "\n",
    "$J_c = E[||P_\\perp y||^2], y = H\\theta_0+n$\n",
    "\n",
    "This simplifies to \n",
    "$J_c = Tr(E[nn^H]E[P_\\perp])$\n",
    "\n",
    "$J_c = \\sigma^2 Tr(P_\\perp) = \\sigma^2(N-L)$\n",
    "\n",
    "Simulated MSE:\n",
    "\n",
    "Mean of norm squared of difference between true and predicted observations over 10000 ensembles"
   ]
  },
  {
   "cell_type": "code",
   "execution_count": 19,
   "metadata": {
    "id": "IJEtskWmIAdb"
   },
   "outputs": [],
   "source": [
    "th_mse_1 = (sigma1**2)*(N-L)\n",
    "th_mse_2 = (sigma2**2)*(N-L)\n",
    "\n",
    "y1_pred = X*(F@mean_theta_c_1)\n",
    "y2_pred = X*(F@mean_theta_c_2)\n",
    "\n",
    "sim_mse_1 = np.mean(np.sum(np.abs(y1-y1_pred)**2,axis=1))\n",
    "sim_mse_2 = np.mean(np.sum(np.abs(y2-y2_pred)**2,axis=1))"
   ]
  },
  {
   "cell_type": "code",
   "execution_count": 20,
   "metadata": {
    "colab": {
     "base_uri": "https://localhost:8080/"
    },
    "id": "4srDfxWEIAdc",
    "outputId": "35de65bd-e334-4eba-b8b8-ef5969e9704e",
    "scrolled": true
   },
   "outputs": [
    {
     "name": "stdout",
     "output_type": "stream",
     "text": [
      "=================\n",
      "Noise variance = 0.1\n",
      "Theoretical MSE\n",
      "48.0\n",
      "Simulated MSE\n",
      "51.21017073422766\n",
      "=================\n",
      "Noise variance = 0.01\n",
      "Theoretical MSE\n",
      "4.800000000000001\n",
      "Simulated MSE\n",
      "5.119373684046654\n"
     ]
    }
   ],
   "source": [
    "print('=================')\n",
    "print('Noise variance = 0.1')\n",
    "print('Theoretical MSE')\n",
    "print(th_mse_1)\n",
    "print('Simulated MSE')\n",
    "print(sim_mse_1)\n",
    "\n",
    "print('=================')\n",
    "print('Noise variance = 0.01')\n",
    "print('Theoretical MSE')\n",
    "print(th_mse_2)\n",
    "print('Simulated MSE')\n",
    "print(sim_mse_2)"
   ]
  },
  {
   "cell_type": "markdown",
   "metadata": {
    "id": "q_pZultbIAdc"
   },
   "source": [
    "### Plots of true parameter and estimated parameter for 1 instance"
   ]
  },
  {
   "cell_type": "code",
   "execution_count": 21,
   "metadata": {
    "colab": {
     "base_uri": "https://localhost:8080/",
     "height": 599
    },
    "id": "AQ9W_H1JIAdc",
    "outputId": "68db1c50-022c-4b01-8f6c-17cc16fbb511"
   },
   "outputs": [
    {
     "data": {
      "image/png": "[encoded data removed]",
      "text/plain": [
       "<Figure size 432x288 with 2 Axes>"
      ]
     },
     "metadata": {
      "needs_background": "light"
     },
     "output_type": "display_data"
    },
    {
     "data": {
      "image/png": "[encoded data removed]",
      "text/plain": [
       "<Figure size 432x288 with 2 Axes>"
      ]
     },
     "metadata": {
      "needs_background": "light"
     },
     "output_type": "display_data"
    }
   ],
   "source": [
    "#Plots\n",
    "fig, ax = plt.subplots(1,2)\n",
    "ax[0].plot(np.real(h),label='Real part of h')\n",
    "ax[0].plot(np.real(theta_c_1[0]),label='Real part of '+r'$\\hat{h}$')\n",
    "ax[0].set_xlabel('n')\n",
    "ax[0].set_ylabel('h[n]')\n",
    "ax[0].legend()\n",
    "ax[0].set_title('Real part')\n",
    "\n",
    "ax[1].plot(np.imag(h),label='Imaginary part of h')\n",
    "ax[1].plot(np.imag(theta_c_1[0]),label='Imaginary part of'+r'$\\hat{h}$')\n",
    "ax[1].set_xlabel('n')\n",
    "ax[1].set_ylabel('h[n]')\n",
    "ax[1].legend()\n",
    "ax[1].set_title('Imaginary part')\n",
    "plt.suptitle('Noise variance = 0.1')\n",
    "plt.show()\n",
    "\n",
    "fig, ax = plt.subplots(1,2)\n",
    "ax[0].plot(np.real(h),label='Real part of h')\n",
    "ax[0].plot(np.real(theta_c_2[0]),label='Real part of '+r'$\\hat{h}$')\n",
    "ax[0].set_xlabel('n')\n",
    "ax[0].set_ylabel('h[n]')\n",
    "ax[0].legend()\n",
    "ax[0].set_title('Real part')\n",
    "\n",
    "ax[1].plot(np.imag(h),label='Imaginary part of h')\n",
    "ax[1].plot(np.imag(theta_c_2[0]),label='Imaginary part of '+r'$\\hat{h}$')\n",
    "ax[1].set_xlabel('n')\n",
    "ax[1].set_ylabel('h[n]')\n",
    "ax[1].legend()\n",
    "ax[1].set_title('Imaginary part')\n",
    "plt.suptitle('Noise variance = 0.01')\n",
    "plt.show()"
   ]
  },
  {
   "cell_type": "markdown",
   "metadata": {
    "id": "bAZgb0gGIAdd"
   },
   "source": [
    "### Delete variables to clear memory"
   ]
  },
  {
   "cell_type": "code",
   "execution_count": 22,
   "metadata": {
    "id": "IMNU9PQCIAdd"
   },
   "outputs": [],
   "source": [
    "del L, lambda_p, N_iter\n",
    "del F, F_mult_h, h, y1, y2\n",
    "del X, n1, n2, sigma1, sigma2\n",
    "del theta_c_1, theta_c_2, H_h_H, H_h_H_inv\n",
    "del lambda_1, lambda_2, A, b\n",
    "del mean_theta_c_1, mean_theta_c_2\n",
    "del th_mse_1, sim_mse_1, th_mse_2, sim_mse_2"
   ]
  },
  {
   "cell_type": "markdown",
   "metadata": {
    "id": "ciAnhtkvIAdd"
   },
   "source": [
    "## Summary of observations and conclusions for Question 4\n",
    "\n",
    "1. We plotted as well as printed the true and mean estimated parameters for the two given noise variances. They agree almost exactly. The percentage error in mean of estimated parameter against the true parameter was 0.071% and 0.0223% for $\\sigma^2 = 0.1,0.01$ respectively.\n",
    "2. Then we calculated the theoretical MSE as well as simulated MSE for the given set of 10000 ensembles for both noise variances. Theoretical and Simulated expressions agree alomst perfectly. Also as expected, the simulated(as well as theoretical) MSE for lesser noise variance is lesser, being approximately proportional to noise variance, with MSE for $\\sigma^2=0.01$ 0.1 times of that for $\\sigma^2=0.1$.\n",
    "3. Finally we plotted the estimates against true parameters for just one of the ensembles. There is good agreement, however the agreement in plots is lesser compared to sample mean of estimated parameter(because averaging improves estimates).\n",
    "4. Hence we explored various aspects of constrained least squares estimation for an ensemble size of 10000 and 2 distinct noise variances. "
   ]
  },
  {
   "cell_type": "markdown",
   "metadata": {
    "id": "uIhihLy6IEXT"
   },
   "source": [
    "# Question 5"
   ]
  },
  {
   "cell_type": "code",
   "execution_count": 23,
   "metadata": {
    "id": "FcXxqNA8IJa5"
   },
   "outputs": [],
   "source": [
    "# Parameters\n",
    "L = 32\n",
    "lam = 0.2\n",
    "n_stddev = np.sqrt(0.01)/2\n",
    "\n",
    "# Generate F Matrix\n",
    "F = np.zeros((512, L), dtype = 'complex')\n",
    "\n",
    "for i in range(F.shape[0]):\n",
    "    for j in range(F.shape[1]):\n",
    "        F[i][j] = np.round(np.exp(complex(0, 2*np.pi*(i)*(j)/512)))\n",
    "\n",
    "# Generate X Matrix\n",
    "X = np.zeros((512,512), dtype = 'complex')\n",
    "QPSK = [complex(1,1), complex(-1,1), complex(1,-1), complex(-1,-1)]\n",
    "for i in range(X.shape[0]):\n",
    "    X[i][i] = np.random.choice(QPSK, p = [0.25, 0.25, 0.25, 0.25])\n",
    "\n",
    "# Generate p and h\n",
    "p = np.zeros((L, 1))\n",
    "for k in range(p.shape[0]):\n",
    "    p[k][0] = np.exp(-lam*(k))\n",
    "p = p.astype('complex')\n",
    "    \n",
    "a = np.random.normal(loc = 0, scale = 0.5, size = (L,1))\n",
    "a = a.astype('complex')\n",
    "b = np.random.normal(loc = 0, scale = 0.5, size = (L,1))\n",
    "b = b*1j\n",
    "\n",
    "h = (1/np.linalg.norm(p))*(a+b)*p\n",
    "\n",
    "# Generating noise n\n",
    "n = np.random.normal(loc=0, scale=n_stddev, size=(512,2)).view(np.complex128)\n"
   ]
  },
  {
   "cell_type": "code",
   "execution_count": 24,
   "metadata": {
    "id": "m6bubwraqo3q"
   },
   "outputs": [],
   "source": [
    "# Generating y, y = XFh + n; y = Ah + n; where A = XF\n",
    "X = np.matrix(X)\n",
    "F = np.matrix(F)\n",
    "h = np.matrix(h)\n",
    "n = np.matrix(n)\n",
    "A = np.matmul(X,F)\n",
    "y = np.matmul(A,h) + n\n",
    "\n",
    "# Generating the matrices for the sparse case\n",
    "F_z = F[:,:6]\n",
    "h_z = h[:6]\n",
    "A_z = np.matmul(X,F_z)\n",
    "y_z = np.matmul(A_z,h_z) + n\n",
    "A_z = np.matrix(A_z)\n",
    "\n",
    "# Generating the matrices in the case of guard band\n",
    "X_g = X.copy()\n",
    "X_g[:180, :] = 0\n",
    "X_g[512-180:,:] = 0\n",
    "A_g = np.matmul(X_g,F)\n",
    "y_g = np.matmul(A_g,h) + n\n",
    "\n",
    "# Creating lists of matrices for each case\n",
    "X = [X, X_g]\n",
    "F = [F_z, F]\n",
    "h = [h_z, h]\n",
    "A = [A_z, A_g]\n",
    "y = [y_z,y_g]"
   ]
  },
  {
   "cell_type": "code",
   "execution_count": 25,
   "metadata": {
    "colab": {
     "base_uri": "https://localhost:8080/"
    },
    "id": "0PZjP_XSqtFQ",
    "outputId": "6a6a8bd9-f706-4f2b-c0be-15c79a0f3858"
   },
   "outputs": [
    {
     "name": "stdout",
     "output_type": "stream",
     "text": [
      "Case 1: Sparse h\n",
      "\n",
      "The estimated value of h is \n",
      " \n",
      " [[0.18858934-0.26051701j]\n",
      " [0.07001115-0.03486669j]\n",
      " [0.04405897-0.31544997j]]\n",
      "\n",
      " Error = 0.002146497795906353\n",
      "\n",
      "\n",
      "Case 2: Guard Band\n",
      "\n",
      "The estimated value of h is \n",
      " \n",
      " [[ 0.04405897-0.31544997j]\n",
      " [ 0.18858934-0.26051701j]\n",
      " [ 0.03151381-0.03090524j]\n",
      " [-0.00696051+0.00090306j]\n",
      " [ 0.00051188+0.01361812j]\n",
      " [ 0.12131329+0.11170244j]]\n",
      "\n",
      " Error = 0.010977636670391642\n",
      "\n",
      "\n",
      "Case 3: Guard Band with regularisation\n",
      "\n",
      "The estimated value of h is \n",
      " \n",
      " [[ 0.04405897-0.31544997j]\n",
      " [ 0.18858934-0.26051701j]\n",
      " [ 0.03151381-0.03090524j]\n",
      " [-0.00696051+0.00090306j]\n",
      " [ 0.00051188+0.01361812j]\n",
      " [ 0.12131329+0.11170244j]]\n",
      "\n",
      " Error = 0.01071120106877475\n",
      "\n",
      "\n"
     ]
    }
   ],
   "source": [
    "# Looping through the cases and implementing the algorithm for each case\n",
    "\n",
    "for i in [0,1]:\n",
    "    # parameters\n",
    "    k0 = 6\n",
    "    S = []\n",
    "    k = 1\n",
    "    r = y[i]\n",
    "\n",
    "    for k in range(1,k0+1):\n",
    "        t = np.argmax(np.matmul(A[i].H,r))\n",
    "        if t not in S:\n",
    "            S.append(t)\n",
    "        A_s = A[i][:,S]\n",
    "        inverse = np.matmul(np.linalg.inv(np.matmul(A_s.H, A_s)), A_s.H)\n",
    "        P = np.matmul(A_s, inverse)\n",
    "        I = np.identity(512)\n",
    "        r = np.matmul((I - P), y[i])\n",
    "        k+= 1\n",
    "\n",
    "    #print(S)\n",
    "\n",
    "    F_m = F[i][:,S]\n",
    "    h_m = h[i][S]\n",
    "    A_m = np.matmul(X[i],F_m)\n",
    "    y_m = np.matmul(A_m,h_m) + n\n",
    "\n",
    "    # Estimating h\n",
    "    A_m = np.matrix(A_m)\n",
    "    if i==0:\n",
    "        h_LS_m = np.matmul(np.matmul(np.linalg.inv(np.matmul(A_m.H, A_m)), A_m.H), y_m)\n",
    "        print('Case 1: Sparse h\\n')\n",
    "        print(\"The estimated value of h is \\n \\n\",h_m)\n",
    "        print(\"\\n Error =\", np.linalg.norm(h_m-h_LS_m))\n",
    "        print('\\n')\n",
    "    else:\n",
    "        print('Case 2: Guard Band\\n')\n",
    "        h_LS_m = np.matmul(np.matmul(np.linalg.inv(np.matmul(A_m.H, A_m)), A_m.H), y_m)\n",
    "        print(\"The estimated value of h is \\n \\n\",h_m)\n",
    "        print(\"\\n Error =\", np.linalg.norm(h_m-h_LS_m))\n",
    "        print('\\n')\n",
    "\n",
    "        print('Case 3: Guard Band with regularisation\\n')\n",
    "        I = np.identity(F_m.shape[1],dtype = 'complex')\n",
    "        alpha = 1\n",
    "        reg_term_m = alpha*I\n",
    "        h_LS_m_reg = np.matmul(np.matmul(np.linalg.inv(np.matmul(A_m.H,A_m)+reg_term_m),A_m.H),y_m)\n",
    "        print(\"The estimated value of h is \\n \\n\",h_m)\n",
    "        print(\"\\n Error =\", np.linalg.norm(h_m-h_LS_m_reg))\n",
    "        print('\\n')"
   ]
  },
  {
   "cell_type": "markdown",
   "metadata": {
    "id": "a_np18awzfJB"
   },
   "source": [
    "We note that the MSE is lower using this algorithm in all 3 cases"
   ]
  },
  {
   "cell_type": "code",
   "execution_count": null,
   "metadata": {
    "id": "XfZAT8RNrAtD"
   },
   "outputs": [],
   "source": []
  }
 ],
 "metadata": {
  "colab": {
   "collapsed_sections": [],
   "name": "Miniproject1_Estimation_Theory.ipynb",
   "provenance": []
  },
  "kernelspec": {
   "display_name": "Python 3",
   "language": "python",
   "name": "python3"
  },
  "language_info": {
   "codemirror_mode": {
    "name": "ipython",
    "version": 3
   },
   "file_extension": ".py",
   "mimetype": "text/x-python",
   "name": "python",
   "nbconvert_exporter": "python",
   "pygments_lexer": "ipython3",
   "version": "3.7.6"
  }
 },
 "nbformat": 4,
 "nbformat_minor": 1
}
